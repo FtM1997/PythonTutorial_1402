{
  "nbformat": 4,
  "nbformat_minor": 0,
  "metadata": {
    "colab": {
      "provenance": [],
      "toc_visible": true,
      "authorship_tag": "ABX9TyMYeEXNNOVmEEuaXTieMLum",
      "include_colab_link": true
    },
    "kernelspec": {
      "name": "python3",
      "display_name": "Python 3"
    },
    "language_info": {
      "name": "python"
    }
  },
  "cells": [
    {
      "cell_type": "markdown",
      "metadata": {
        "id": "view-in-github",
        "colab_type": "text"
      },
      "source": [
        "<a href=\"https://colab.research.google.com/github/FtM1997/PythonTutorial_2023/blob/main/DataTypes/Numbers.ipynb\" target=\"_parent\"><img src=\"https://colab.research.google.com/assets/colab-badge.svg\" alt=\"Open In Colab\"/></a>"
      ]
    },
    {
      "cell_type": "code",
      "execution_count": null,
      "metadata": {
        "colab": {
          "base_uri": "https://localhost:8080/"
        },
        "id": "l8rLcI1Wtdt4",
        "outputId": "040471bb-3a93-41fa-cb3f-b83125c67e1e"
      },
      "outputs": [
        {
          "output_type": "stream",
          "name": "stdout",
          "text": [
            "5 is of type <class 'int'>\n",
            "5.42 is of type <class 'float'>\n",
            "(8+2j) is of type <class 'complex'>\n"
          ]
        }
      ],
      "source": [
        "num1 = 5\n",
        "print(num1, 'is of type', type(num1))\n",
        "\n",
        "num2 = 5.42\n",
        "print(num2, 'is of type', type(num2))\n",
        "\n",
        "num3 = 8+2j\n",
        "print(num3, 'is of type', type(num3))"
      ]
    },
    {
      "cell_type": "code",
      "source": [
        "print(0b1101011)\n",
        "\n",
        "print(0xFB + 0b10)\n",
        "\n",
        "print(0o15)"
      ],
      "metadata": {
        "colab": {
          "base_uri": "https://localhost:8080/"
        },
        "id": "qkemfPcqt5NC",
        "outputId": "21422cb4-c832-4998-ac20-e1f963c6f02b"
      },
      "execution_count": null,
      "outputs": [
        {
          "output_type": "stream",
          "name": "stdout",
          "text": [
            "107\n",
            "253\n",
            "13\n"
          ]
        }
      ]
    },
    {
      "cell_type": "code",
      "source": [
        "num1 = int(2.3)\n",
        "print(num1)\n",
        "\n",
        "num2 = int(-2.8)\n",
        "print(num2)\n",
        "\n",
        "num3 = float(5)\n",
        "print(num3)\n",
        "\n",
        "num4 = complex('3+5j')\n",
        "print(num4)"
      ],
      "metadata": {
        "colab": {
          "base_uri": "https://localhost:8080/"
        },
        "id": "XNXhoFGBuCuy",
        "outputId": "046e6ac4-fdbe-4795-834e-6bafaaa8c747"
      },
      "execution_count": null,
      "outputs": [
        {
          "output_type": "stream",
          "name": "stdout",
          "text": [
            "2\n",
            "-2\n",
            "5.0\n",
            "(3+5j)\n"
          ]
        }
      ]
    },
    {
      "cell_type": "code",
      "source": [
        "import random\n",
        "\n",
        "print(random.randrange(10, 20))\n",
        "\n",
        "list1 = ['a', 'b', 'c', 'd', 'e']\n",
        "\n",
        "# get random item from list1\n",
        "print(random.choice(list1))\n",
        "\n",
        "# Shuffle list1\n",
        "random.shuffle(list1)\n",
        "\n",
        "# Print the shuffled list1\n",
        "print(list1)\n",
        "\n",
        "# Print random element\n",
        "print(random.random())"
      ],
      "metadata": {
        "colab": {
          "base_uri": "https://localhost:8080/"
        },
        "id": "xzMo6hBkuOW4",
        "outputId": "3ed18e13-dc4a-4ceb-dad5-17a44a675b77"
      },
      "execution_count": null,
      "outputs": [
        {
          "output_type": "stream",
          "name": "stdout",
          "text": [
            "15\n",
            "e\n",
            "['e', 'b', 'd', 'a', 'c']\n",
            "0.02529474653322561\n"
          ]
        }
      ]
    },
    {
      "cell_type": "code",
      "source": [
        "import math\n",
        "\n",
        "print(math.pi)\n",
        "\n",
        "print(math.cos(math.pi))\n",
        "\n",
        "print(math.exp(10))\n",
        "\n",
        "print(math.log10(1000))\n",
        "\n",
        "print(math.sinh(1))\n",
        "\n",
        "print(math.factorial(6))"
      ],
      "metadata": {
        "colab": {
          "base_uri": "https://localhost:8080/"
        },
        "id": "uedLXT9WvEMG",
        "outputId": "f5055248-eda1-49a0-cd5e-888a41572d8c"
      },
      "execution_count": null,
      "outputs": [
        {
          "output_type": "stream",
          "name": "stdout",
          "text": [
            "3.141592653589793\n",
            "-1.0\n",
            "22026.465794806718\n",
            "3.0\n",
            "1.1752011936438014\n",
            "720\n"
          ]
        }
      ]
    },
    {
      "cell_type": "code",
      "source": [
        "math.sqrt(4)"
      ],
      "metadata": {
        "colab": {
          "base_uri": "https://localhost:8080/"
        },
        "id": "YSqaaR2byCBZ",
        "outputId": "8640d9d8-1495-48ec-8db2-acc3bb21000c"
      },
      "execution_count": null,
      "outputs": [
        {
          "output_type": "execute_result",
          "data": {
            "text/plain": [
              "2.0"
            ]
          },
          "metadata": {},
          "execution_count": 7
        }
      ]
    },
    {
      "cell_type": "code",
      "source": [
        "print(math.factorial(12))"
      ],
      "metadata": {
        "colab": {
          "base_uri": "https://localhost:8080/"
        },
        "id": "PSfnPqdKSfOw",
        "outputId": "0c988e1f-cc93-4eee-a40c-d31e1e8867bb"
      },
      "execution_count": null,
      "outputs": [
        {
          "output_type": "stream",
          "name": "stdout",
          "text": [
            "479001600\n"
          ]
        }
      ]
    },
    {
      "cell_type": "code",
      "source": [
        "print(math.log(10))"
      ],
      "metadata": {
        "colab": {
          "base_uri": "https://localhost:8080/"
        },
        "id": "2gQG1zuUSiB-",
        "outputId": "19e7a06f-1e0d-4182-8b77-bb5feecabd5e"
      },
      "execution_count": null,
      "outputs": [
        {
          "output_type": "stream",
          "name": "stdout",
          "text": [
            "2.302585092994046\n"
          ]
        }
      ]
    },
    {
      "cell_type": "code",
      "source": [
        "import statistics\n",
        "\n",
        "print(statistics.median([2, 4, 6, 8, 10, 12, 14, 16, 18, 20]))"
      ],
      "metadata": {
        "colab": {
          "base_uri": "https://localhost:8080/"
        },
        "id": "86kXNM2qSqnH",
        "outputId": "f6c117df-7039-4c3c-d771-691ced09c6ae"
      },
      "execution_count": null,
      "outputs": [
        {
          "output_type": "stream",
          "name": "stdout",
          "text": [
            "11.0\n"
          ]
        }
      ]
    },
    {
      "cell_type": "code",
      "source": [
        "print(statistics.mean([2, 4, 6, 8, 10, 12, 14, 16, 18, 20]))"
      ],
      "metadata": {
        "colab": {
          "base_uri": "https://localhost:8080/"
        },
        "id": "93K79niqStmD",
        "outputId": "fb95fb89-4cd5-4124-c47b-4aa0668d45cb"
      },
      "execution_count": null,
      "outputs": [
        {
          "output_type": "stream",
          "name": "stdout",
          "text": [
            "11\n"
          ]
        }
      ]
    },
    {
      "cell_type": "code",
      "source": [
        "print(statistics.mode([20, 4, 6, 8, 10, 6, 12, 4, 6, 18, 20]))"
      ],
      "metadata": {
        "colab": {
          "base_uri": "https://localhost:8080/"
        },
        "id": "sr1FqFwZSwul",
        "outputId": "cd9ac075-1bd3-4ef3-a63b-be9331bb67a6"
      },
      "execution_count": null,
      "outputs": [
        {
          "output_type": "stream",
          "name": "stdout",
          "text": [
            "6\n"
          ]
        }
      ]
    },
    {
      "cell_type": "code",
      "source": [
        "x = [5]\n",
        "\n",
        "y = [12]\n",
        "\n",
        "print (math.dist(x, y))"
      ],
      "metadata": {
        "colab": {
          "base_uri": "https://localhost:8080/"
        },
        "id": "9rBxI4s6S6q7",
        "outputId": "0d2522c1-0c61-4dc0-b4a6-7b57c7396d97"
      },
      "execution_count": null,
      "outputs": [
        {
          "output_type": "stream",
          "name": "stdout",
          "text": [
            "7.0\n"
          ]
        }
      ]
    },
    {
      "cell_type": "code",
      "source": [
        "p = pow(2, 3)\n",
        "print(p)"
      ],
      "metadata": {
        "colab": {
          "base_uri": "https://localhost:8080/"
        },
        "id": "_9BO59n3TEq6",
        "outputId": "8a4ccee5-3dd7-43ae-a670-08a4b4fb82ec"
      },
      "execution_count": null,
      "outputs": [
        {
          "output_type": "stream",
          "name": "stdout",
          "text": [
            "8\n"
          ]
        }
      ]
    },
    {
      "cell_type": "code",
      "source": [
        "print(math.ceil(4.4))"
      ],
      "metadata": {
        "colab": {
          "base_uri": "https://localhost:8080/"
        },
        "id": "qhvGfQDmTLoA",
        "outputId": "1684b2dd-0a03-45d4-ddae-7681db68a2fe"
      },
      "execution_count": null,
      "outputs": [
        {
          "output_type": "stream",
          "name": "stdout",
          "text": [
            "5\n"
          ]
        }
      ]
    },
    {
      "cell_type": "code",
      "source": [
        "print(math.floor(4.4))"
      ],
      "metadata": {
        "colab": {
          "base_uri": "https://localhost:8080/"
        },
        "id": "FLwph6EOTONX",
        "outputId": "380bf544-054e-4acd-8465-03778c8148e1"
      },
      "execution_count": null,
      "outputs": [
        {
          "output_type": "stream",
          "name": "stdout",
          "text": [
            "4\n"
          ]
        }
      ]
    },
    {
      "cell_type": "code",
      "source": [
        "print (math.sin(21))\n",
        "print (math.cos(21))\n",
        "print (math.tan(21))\n",
        "print (math.asin(1))\n",
        "print (math.acos(1))\n",
        "print (math.atan(1))"
      ],
      "metadata": {
        "colab": {
          "base_uri": "https://localhost:8080/"
        },
        "id": "Vo30yPwyTRpv",
        "outputId": "aae2ef85-730f-48a6-85b4-8e47340f867b"
      },
      "execution_count": null,
      "outputs": [
        {
          "output_type": "stream",
          "name": "stdout",
          "text": [
            "0.8366556385360561\n",
            "-0.5477292602242684\n",
            "-1.5274985276366035\n",
            "1.5707963267948966\n",
            "0.0\n",
            "0.7853981633974483\n"
          ]
        }
      ]
    },
    {
      "cell_type": "code",
      "source": [
        "math.fabs(-3)"
      ],
      "metadata": {
        "colab": {
          "base_uri": "https://localhost:8080/"
        },
        "id": "QbCNML5pT3Qp",
        "outputId": "0fb171b3-1af5-48d5-d918-71a4b1076757"
      },
      "execution_count": null,
      "outputs": [
        {
          "output_type": "execute_result",
          "data": {
            "text/plain": [
              "3.0"
            ]
          },
          "metadata": {},
          "execution_count": 16
        }
      ]
    },
    {
      "cell_type": "code",
      "source": [
        "math.fmod(12, 5)"
      ],
      "metadata": {
        "colab": {
          "base_uri": "https://localhost:8080/"
        },
        "id": "7DIa2FEPUszF",
        "outputId": "b84144b2-6dff-4f78-938b-d5cf2d073eb8"
      },
      "execution_count": null,
      "outputs": [
        {
          "output_type": "execute_result",
          "data": {
            "text/plain": [
              "2.0"
            ]
          },
          "metadata": {},
          "execution_count": 18
        }
      ]
    },
    {
      "cell_type": "code",
      "source": [
        "math.isnan(1)"
      ],
      "metadata": {
        "colab": {
          "base_uri": "https://localhost:8080/"
        },
        "id": "9ks4D2IFU572",
        "outputId": "182e0dab-6fb9-45a7-b741-c9a60d9e211f"
      },
      "execution_count": null,
      "outputs": [
        {
          "output_type": "execute_result",
          "data": {
            "text/plain": [
              "False"
            ]
          },
          "metadata": {},
          "execution_count": 19
        }
      ]
    },
    {
      "cell_type": "code",
      "source": [
        "math.log10(5)"
      ],
      "metadata": {
        "colab": {
          "base_uri": "https://localhost:8080/"
        },
        "id": "WCuBp2z5WYkt",
        "outputId": "e3bf9af2-4fcf-46c8-a81f-6d0cb5bc4696"
      },
      "execution_count": null,
      "outputs": [
        {
          "output_type": "execute_result",
          "data": {
            "text/plain": [
              "0.6989700043360189"
            ]
          },
          "metadata": {},
          "execution_count": 20
        }
      ]
    }
  ]
}