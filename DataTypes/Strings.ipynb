{
  "nbformat": 4,
  "nbformat_minor": 0,
  "metadata": {
    "colab": {
      "provenance": [],
      "toc_visible": true,
      "authorship_tag": "ABX9TyPXtRwqsYItL8tVH444zj5S",
      "include_colab_link": true
    },
    "kernelspec": {
      "name": "python3",
      "display_name": "Python 3"
    },
    "language_info": {
      "name": "python"
    }
  },
  "cells": [
    {
      "cell_type": "markdown",
      "metadata": {
        "id": "view-in-github",
        "colab_type": "text"
      },
      "source": [
        "<a href=\"https://colab.research.google.com/github/FtM1997/PythonTutorial_2023/blob/main/DataTypes/Strings.ipynb\" target=\"_parent\"><img src=\"https://colab.research.google.com/assets/colab-badge.svg\" alt=\"Open In Colab\"/></a>"
      ]
    },
    {
      "cell_type": "code",
      "execution_count": null,
      "metadata": {
        "colab": {
          "base_uri": "https://localhost:8080/"
        },
        "id": "fdi6qfnfv0d3",
        "outputId": "58235628-41d1-4df7-81f9-41eecabfdfc8"
      },
      "outputs": [
        {
          "output_type": "stream",
          "name": "stdout",
          "text": [
            "Python\n",
            "I love Python.\n"
          ]
        }
      ],
      "source": [
        "# create string type variables\n",
        "\n",
        "name = \"Python\"\n",
        "print(name)\n",
        "\n",
        "message = \"I love Python.\"\n",
        "print(message)"
      ]
    },
    {
      "cell_type": "code",
      "source": [
        "greet = 'hello'\n",
        "\n",
        "# access 1st index element\n",
        "print(greet[1]) # \"e\""
      ],
      "metadata": {
        "colab": {
          "base_uri": "https://localhost:8080/"
        },
        "id": "qEA1T20Wv7jb",
        "outputId": "dff7d9e0-dfef-4dae-b3f3-466cb89b845f"
      },
      "execution_count": null,
      "outputs": [
        {
          "output_type": "stream",
          "name": "stdout",
          "text": [
            "e\n"
          ]
        }
      ]
    },
    {
      "cell_type": "code",
      "source": [
        "greet = 'hello'\n",
        "\n",
        "# access 4th last element\n",
        "print(greet[-4]) # \"e\""
      ],
      "metadata": {
        "colab": {
          "base_uri": "https://localhost:8080/"
        },
        "id": "uKTrb8adv_bZ",
        "outputId": "39c84b8c-b85d-4a8d-a06f-573bd5eb203e"
      },
      "execution_count": null,
      "outputs": [
        {
          "output_type": "stream",
          "name": "stdout",
          "text": [
            "e\n"
          ]
        }
      ]
    },
    {
      "cell_type": "code",
      "source": [
        "greet = 'Hello'\n",
        "\n",
        "# access character from 1st index to 3rd index\n",
        "print(greet[1:4])  # \"ell\""
      ],
      "metadata": {
        "colab": {
          "base_uri": "https://localhost:8080/"
        },
        "id": "BIzTRjCZwD83",
        "outputId": "08babd7f-936b-4a4f-93af-a583dde39723"
      },
      "execution_count": null,
      "outputs": [
        {
          "output_type": "stream",
          "name": "stdout",
          "text": [
            "ell\n"
          ]
        }
      ]
    },
    {
      "cell_type": "code",
      "source": [
        "message = 'Hola Amigos'\n",
        "message[0] = 'H'\n",
        "print(message)"
      ],
      "metadata": {
        "id": "lNQ5Nn9KwFCA"
      },
      "execution_count": null,
      "outputs": []
    },
    {
      "cell_type": "code",
      "source": [
        "message = 'Hola Amigos'\n",
        "\n",
        "# assign new string to message variable\n",
        "message = 'Hello Friends'\n",
        "\n",
        "print(message); # prints \"Hello Friends\""
      ],
      "metadata": {
        "colab": {
          "base_uri": "https://localhost:8080/"
        },
        "id": "sc26k6PJwiTe",
        "outputId": "f490b765-259f-4fd0-c022-d88632edc8e2"
      },
      "execution_count": null,
      "outputs": [
        {
          "output_type": "stream",
          "name": "stdout",
          "text": [
            "Hello Friends\n"
          ]
        }
      ]
    },
    {
      "cell_type": "code",
      "source": [
        "# multiline string\n",
        "message = \"\"\"\n",
        "Never gonna give you up\n",
        "Never gonna let you down\n",
        "\"\"\"\n",
        "\n",
        "print(message)"
      ],
      "metadata": {
        "colab": {
          "base_uri": "https://localhost:8080/"
        },
        "id": "yjs2KpSNwqHk",
        "outputId": "0fa74362-0a3b-4a6f-b312-2617d874ce3d"
      },
      "execution_count": null,
      "outputs": [
        {
          "output_type": "stream",
          "name": "stdout",
          "text": [
            "\n",
            "Never gonna give you up\n",
            "Never gonna let you down\n",
            "\n"
          ]
        }
      ]
    },
    {
      "cell_type": "code",
      "source": [
        "str1 = \"Hello, world!\"\n",
        "str2 = \"I love Python.\"\n",
        "str3 = \"Hello, world!\"\n",
        "\n",
        "# compare str1 and str2\n",
        "print(str1 == str2)\n",
        "\n",
        "# compare str1 and str3\n",
        "print(str1 == str3)"
      ],
      "metadata": {
        "colab": {
          "base_uri": "https://localhost:8080/"
        },
        "id": "ImEiCSfCwux5",
        "outputId": "dc506dd3-1741-45c6-8470-2af74643748c"
      },
      "execution_count": null,
      "outputs": [
        {
          "output_type": "stream",
          "name": "stdout",
          "text": [
            "False\n",
            "True\n"
          ]
        }
      ]
    },
    {
      "cell_type": "code",
      "source": [
        "greet = \"Hello, \"\n",
        "name = \"Jack\"\n",
        "\n",
        "# using + operator\n",
        "result = greet + name\n",
        "print(result)\n"
      ],
      "metadata": {
        "colab": {
          "base_uri": "https://localhost:8080/"
        },
        "id": "F1_KcudJwz2K",
        "outputId": "424b9ae7-c260-4b15-9b67-6ef03dc22b0e"
      },
      "execution_count": null,
      "outputs": [
        {
          "output_type": "stream",
          "name": "stdout",
          "text": [
            "Hello, Jack\n"
          ]
        }
      ]
    },
    {
      "cell_type": "code",
      "source": [
        "greet = 'Hello'\n",
        "\n",
        "# iterating through greet string\n",
        "for letter in greet:\n",
        "    print(letter)"
      ],
      "metadata": {
        "colab": {
          "base_uri": "https://localhost:8080/"
        },
        "id": "QSXkOKDkw4ui",
        "outputId": "87a2e4ee-37c2-483d-9ab3-f9ebec48968e"
      },
      "execution_count": null,
      "outputs": [
        {
          "output_type": "stream",
          "name": "stdout",
          "text": [
            "H\n",
            "e\n",
            "l\n",
            "l\n",
            "o\n"
          ]
        }
      ]
    },
    {
      "cell_type": "code",
      "source": [
        "greet = 'Hello'\n",
        "\n",
        "# count length of greet string\n",
        "print(len(greet))"
      ],
      "metadata": {
        "colab": {
          "base_uri": "https://localhost:8080/"
        },
        "id": "YwwmBFOxw7dU",
        "outputId": "0c38a250-123c-40b6-a9fb-86d2759cfa6e"
      },
      "execution_count": null,
      "outputs": [
        {
          "output_type": "stream",
          "name": "stdout",
          "text": [
            "5\n"
          ]
        }
      ]
    },
    {
      "cell_type": "code",
      "source": [
        "print('a' in 'program')\n",
        "print('at' not in 'battle')"
      ],
      "metadata": {
        "colab": {
          "base_uri": "https://localhost:8080/"
        },
        "id": "uDaYV34TxBOc",
        "outputId": "009a8c26-46b9-4272-ce7e-51ac28c533b8"
      },
      "execution_count": null,
      "outputs": [
        {
          "output_type": "stream",
          "name": "stdout",
          "text": [
            "True\n",
            "False\n"
          ]
        }
      ]
    },
    {
      "cell_type": "code",
      "source": [
        "sentence = \"i love PYTHON\"\n",
        "\n",
        "# converts first character to uppercase and others to lowercase\n",
        "capitalized_string = sentence.capitalize()\n",
        "\n",
        "print(capitalized_string)"
      ],
      "metadata": {
        "colab": {
          "base_uri": "https://localhost:8080/"
        },
        "id": "sVb8vA7qy5xl",
        "outputId": "029acda9-f282-4280-97c4-64b6013aa6ba"
      },
      "execution_count": null,
      "outputs": [
        {
          "output_type": "stream",
          "name": "stdout",
          "text": [
            "I love python\n"
          ]
        }
      ]
    },
    {
      "cell_type": "code",
      "source": [
        "sentence = \"Python is awesome\"\n",
        "\n",
        "# returns the centered padded string of length 24\n",
        "new_string = sentence.center(24, '*')\n",
        "\n",
        "print(new_string)"
      ],
      "metadata": {
        "colab": {
          "base_uri": "https://localhost:8080/"
        },
        "id": "TSxoQWMvy8eu",
        "outputId": "9899528f-a9ba-4b80-fb25-6362a334f482"
      },
      "execution_count": null,
      "outputs": [
        {
          "output_type": "stream",
          "name": "stdout",
          "text": [
            "***Python is awesome****\n"
          ]
        }
      ]
    },
    {
      "cell_type": "code",
      "source": [
        "sentence = \"Python is awesome\"\n",
        "\n",
        "# returns the centered padded string of length 20\n",
        "new_string = sentence.center(20, '$')\n",
        "\n",
        "print(new_string)"
      ],
      "metadata": {
        "colab": {
          "base_uri": "https://localhost:8080/"
        },
        "id": "wmcS1W3c0Pmn",
        "outputId": "d73854dc-2432-4540-bab0-689f895f7d66"
      },
      "execution_count": null,
      "outputs": [
        {
          "output_type": "stream",
          "name": "stdout",
          "text": [
            "$Python is awesome$$\n"
          ]
        }
      ]
    },
    {
      "cell_type": "code",
      "source": [
        "text = \"Python is awesome\"\n",
        "\n",
        "# returns padded string by adding whitespace up to length 24\n",
        "new_text = text.center(24)\n",
        "print(new_text)"
      ],
      "metadata": {
        "colab": {
          "base_uri": "https://localhost:8080/"
        },
        "id": "HRRPdYj_0X8a",
        "outputId": "ad710bb0-4e59-49f0-e235-a0f64754eddc"
      },
      "execution_count": null,
      "outputs": [
        {
          "output_type": "stream",
          "name": "stdout",
          "text": [
            "   Python is awesome    \n"
          ]
        }
      ]
    },
    {
      "cell_type": "code",
      "source": [
        "message = 'python is fun'\n",
        "\n",
        "# convert message to uppercase\n",
        "print(message.upper())"
      ],
      "metadata": {
        "colab": {
          "base_uri": "https://localhost:8080/"
        },
        "id": "vuGJuHMtxEy3",
        "outputId": "2a87cc72-82f0-48c1-dcd6-365a641fe316"
      },
      "execution_count": null,
      "outputs": [
        {
          "output_type": "stream",
          "name": "stdout",
          "text": [
            "PYTHON IS FUN\n"
          ]
        }
      ]
    },
    {
      "cell_type": "code",
      "source": [
        "text = \"PYTHON IS FUN\"\n",
        "\n",
        "# converts text to lowercase\n",
        "print(text.casefold())"
      ],
      "metadata": {
        "colab": {
          "base_uri": "https://localhost:8080/"
        },
        "id": "5tnbaFmX0mXD",
        "outputId": "d0ba5a8e-552a-4f91-93f6-332d168083ee"
      },
      "execution_count": null,
      "outputs": [
        {
          "output_type": "stream",
          "name": "stdout",
          "text": [
            "python is fun\n"
          ]
        }
      ]
    },
    {
      "cell_type": "code",
      "source": [
        "text = 'groß'\n",
        "\n",
        "# convert text to lowercase using casefold()\n",
        "print('Using casefold():', text.casefold())\n",
        "\n",
        "# convert text to lowercase using lower()\n",
        "print('Using lower():', text.lower())"
      ],
      "metadata": {
        "colab": {
          "base_uri": "https://localhost:8080/"
        },
        "id": "ICkzVnIo1UTr",
        "outputId": "354f0fb7-66da-4fda-ca47-0c0c96cc1562"
      },
      "execution_count": null,
      "outputs": [
        {
          "output_type": "stream",
          "name": "stdout",
          "text": [
            "Using casefold(): gross\n",
            "Using lower(): groß\n"
          ]
        }
      ]
    },
    {
      "cell_type": "code",
      "source": [
        "message = 'python is popular programming language'\n",
        "\n",
        "# number of occurrence of 'p'\n",
        "print('Number of occurrence of p:', message.count('p'))"
      ],
      "metadata": {
        "colab": {
          "base_uri": "https://localhost:8080/"
        },
        "id": "MQSIuVUX1bfy",
        "outputId": "2dd9c508-63f7-48db-9ac4-9eea6613e87b"
      },
      "execution_count": null,
      "outputs": [
        {
          "output_type": "stream",
          "name": "stdout",
          "text": [
            "Number of occurrence of p: 4\n"
          ]
        }
      ]
    },
    {
      "cell_type": "code",
      "source": [
        "# define string\n",
        "string = \"Python is awesome, isn't it?\"\n",
        "substring = \"is\"\n",
        "\n",
        "count = string.count(substring)\n",
        "\n",
        "# print count\n",
        "print(\"The count is:\", count)"
      ],
      "metadata": {
        "colab": {
          "base_uri": "https://localhost:8080/"
        },
        "id": "GrHp10ag1gOT",
        "outputId": "6c6535e6-25c9-4fbd-c292-6738daeb2607"
      },
      "execution_count": null,
      "outputs": [
        {
          "output_type": "stream",
          "name": "stdout",
          "text": [
            "The count is: 2\n"
          ]
        }
      ]
    },
    {
      "cell_type": "code",
      "source": [
        "# define string\n",
        "string = \"Python is awesome, isn't it?\"\n",
        "substring = \"i\"\n",
        "\n",
        "# count after first 'i' and before the last 'i'\n",
        "count = string.count(substring, 8, 25)\n",
        "\n",
        "# print count\n",
        "print(\"The count is:\", count)"
      ],
      "metadata": {
        "colab": {
          "base_uri": "https://localhost:8080/"
        },
        "id": "Ngkomnf51izw",
        "outputId": "5228017e-8db1-40d0-d14e-71b80ffc42c4"
      },
      "execution_count": null,
      "outputs": [
        {
          "output_type": "stream",
          "name": "stdout",
          "text": [
            "The count is: 1\n"
          ]
        }
      ]
    },
    {
      "cell_type": "code",
      "source": [
        "message = 'Python is fun'\n",
        "\n",
        "# check if the message ends with fun\n",
        "print(message.endswith('fun'))"
      ],
      "metadata": {
        "colab": {
          "base_uri": "https://localhost:8080/"
        },
        "id": "PEbceE_I2EMy",
        "outputId": "9effdb69-8be1-4b12-b0e9-d6ea702558bc"
      },
      "execution_count": null,
      "outputs": [
        {
          "output_type": "stream",
          "name": "stdout",
          "text": [
            "True\n"
          ]
        }
      ]
    },
    {
      "cell_type": "code",
      "source": [
        "text = \"Python programming is easy to learn.\"\n",
        "\n",
        "# start parameter: 7\n",
        "# \"programming is easy to learn.\" string is searched\n",
        "result = text.endswith('learn.', 7)\n",
        "print(result)\n",
        "\n",
        "# Both start and end is provided\n",
        "# start: 7, end: 26\n",
        "# \"programming is easy\" string is searched\n",
        "\n",
        "result = text.endswith('is', 7, 26)\n",
        "# Returns False\n",
        "print(result)\n",
        "\n",
        "result = text.endswith('easy', 7, 26)\n",
        "# returns True\n",
        "print(result)"
      ],
      "metadata": {
        "colab": {
          "base_uri": "https://localhost:8080/"
        },
        "id": "-sbPVlAo2Gjn",
        "outputId": "30a73490-a83d-4b02-be8e-f35f6e86936e"
      },
      "execution_count": null,
      "outputs": [
        {
          "output_type": "stream",
          "name": "stdout",
          "text": [
            "True\n",
            "False\n",
            "True\n"
          ]
        }
      ]
    },
    {
      "cell_type": "code",
      "source": [
        "text = \"programming is easy\"\n",
        "result = text.endswith(('programming', 'python'))\n",
        "\n",
        "# prints False\n",
        "print(result)\n",
        "\n",
        "result = text.endswith(('python', 'easy', 'java'))\n",
        "\n",
        "#prints True\n",
        "print(result)\n",
        "\n",
        "# With start and end parameter\n",
        "# 'programming is' string is checked\n",
        "result = text.endswith(('is', 'an'), 0, 14)\n",
        "\n",
        "# prints True\n",
        "print(result)"
      ],
      "metadata": {
        "colab": {
          "base_uri": "https://localhost:8080/"
        },
        "id": "fBm9ruD_5fih",
        "outputId": "20383d4d-406c-4651-f75b-99cdd2f03ffb"
      },
      "execution_count": null,
      "outputs": [
        {
          "output_type": "stream",
          "name": "stdout",
          "text": [
            "False\n",
            "True\n",
            "True\n"
          ]
        }
      ]
    },
    {
      "cell_type": "code",
      "source": [
        "str = 'xyz\\t12345\\tabc'\n",
        "\n",
        "# no argument is passed\n",
        "# default tabsize is 8\n",
        "result = str.expandtabs()\n",
        "\n",
        "print(result)"
      ],
      "metadata": {
        "colab": {
          "base_uri": "https://localhost:8080/"
        },
        "id": "B6mYRzSX6ATW",
        "outputId": "b9130914-c025-47d4-9970-55453cf08634"
      },
      "execution_count": null,
      "outputs": [
        {
          "output_type": "stream",
          "name": "stdout",
          "text": [
            "xyz     12345   abc\n"
          ]
        }
      ]
    },
    {
      "cell_type": "code",
      "source": [
        "str = \"xyz\\t12345\\tabc\"\n",
        "print('Original String:', str)\n",
        "\n",
        "# tabsize is set to 2\n",
        "print('Tabsize 2:', str.expandtabs(2))"
      ],
      "metadata": {
        "colab": {
          "base_uri": "https://localhost:8080/"
        },
        "id": "QWpJPvF98csP",
        "outputId": "e6bfe86a-e315-4158-bf0b-ccd067fb2935"
      },
      "execution_count": null,
      "outputs": [
        {
          "output_type": "stream",
          "name": "stdout",
          "text": [
            "Original String: xyz\t12345\tabc\n",
            "Tabsize 2: xyz 12345 abc\n"
          ]
        }
      ]
    },
    {
      "cell_type": "code",
      "source": [
        "# unicode string\n",
        "string = 'pythön!'\n",
        "\n",
        "# print string\n",
        "print('The string is:', string)\n",
        "\n",
        "# default encoding to utf-8\n",
        "string_utf = string.encode()\n",
        "\n",
        "# print result\n",
        "print('The encoded version is:', string_utf)"
      ],
      "metadata": {
        "colab": {
          "base_uri": "https://localhost:8080/"
        },
        "id": "RGYLlvR2_GFG",
        "outputId": "e90f1cd9-ee2d-4a58-9b49-9c3064d20e05"
      },
      "execution_count": null,
      "outputs": [
        {
          "output_type": "stream",
          "name": "stdout",
          "text": [
            "The string is: pythön!\n",
            "The encoded version is: b'pyth\\xc3\\xb6n!'\n"
          ]
        }
      ]
    },
    {
      "cell_type": "code",
      "source": [
        "message = 'Python is a fun programming language'\n",
        "\n",
        "# check the index of 'fun'\n",
        "print(message.find('fun'))"
      ],
      "metadata": {
        "colab": {
          "base_uri": "https://localhost:8080/"
        },
        "id": "gJX_tE5d_Xgq",
        "outputId": "ff2bd16b-56d1-4b3c-c510-777662541d7a"
      },
      "execution_count": null,
      "outputs": [
        {
          "output_type": "stream",
          "name": "stdout",
          "text": [
            "12\n"
          ]
        }
      ]
    },
    {
      "cell_type": "code",
      "source": [
        "quote = 'Let it be, let it be, let it be'\n",
        "\n",
        "# first occurance of 'let it'(case sensitive)\n",
        "result = quote.find('let it')\n",
        "print(\"Substring 'let it':\", result)\n",
        "\n",
        "# find returns -1 if substring not found\n",
        "result = quote.find('small')\n",
        "print(\"Substring 'small ':\", result)\n",
        "\n",
        "# How to use find()\n",
        "if (quote.find('be,') != -1):\n",
        "    print(\"Contains substring 'be,'\")\n",
        "else:\n",
        "    print(\"Doesn't contain substring\")"
      ],
      "metadata": {
        "colab": {
          "base_uri": "https://localhost:8080/"
        },
        "id": "tqUcxBShA9mQ",
        "outputId": "41e2da66-1e31-4d31-f9c5-9939b1fdf5d5"
      },
      "execution_count": null,
      "outputs": [
        {
          "output_type": "stream",
          "name": "stdout",
          "text": [
            "Substring 'let it': 11\n",
            "Substring 'small ': -1\n",
            "Contains substring 'be,'\n"
          ]
        }
      ]
    },
    {
      "cell_type": "code",
      "source": [
        "quote = 'Do small things with great love'\n",
        "\n",
        "# Substring is searched in 'hings with great love'\n",
        "print(quote.find('small things', 10))\n",
        "\n",
        "# Substring is searched in ' small things with great love'\n",
        "print(quote.find('small things', 2))\n",
        "\n",
        "# Substring is searched in 'hings with great lov'\n",
        "print(quote.find('o small ', 10, -1))\n",
        "\n",
        "# Substring is searched in 'll things with'\n",
        "print(quote.find('things ', 6, 20))"
      ],
      "metadata": {
        "colab": {
          "base_uri": "https://localhost:8080/"
        },
        "id": "ZVekIlV9BNP8",
        "outputId": "917dd192-3f68-4db4-90c2-1734c1e5a38d"
      },
      "execution_count": null,
      "outputs": [
        {
          "output_type": "stream",
          "name": "stdout",
          "text": [
            "-1\n",
            "3\n",
            "-1\n",
            "9\n"
          ]
        }
      ]
    },
    {
      "cell_type": "code",
      "source": [
        "# default arguments\n",
        "print(\"Hello {}, your age is {}.\".format(\"Adam\", 26))\n",
        "\n",
        "# positional arguments\n",
        "print(\"Hello {0}, your age is {1}.\".format(\"Adam\", 26))\n",
        "\n",
        "# keyword arguments\n",
        "print(\"Hello {name}, your age is {a}.\".format(name=\"Adam\", a=26))\n",
        "\n",
        "# mixed arguments\n",
        "print(\"Hello {0}, your age is {a}.\".format(\"Adam\", a=26))"
      ],
      "metadata": {
        "colab": {
          "base_uri": "https://localhost:8080/"
        },
        "id": "cqs3LQEjCdP8",
        "outputId": "220b7c40-4f78-4746-9b64-0b719c8c7080"
      },
      "execution_count": null,
      "outputs": [
        {
          "output_type": "stream",
          "name": "stdout",
          "text": [
            "Hello Adam, your age is 26.\n",
            "Hello Adam, your age is 26.\n",
            "Hello Adam, your age is 26.\n",
            "Hello Adam, your age is 26.\n"
          ]
        }
      ]
    },
    {
      "cell_type": "code",
      "source": [
        "# integer arguments\n",
        "print(\"The number is:{:d}\".format(123))\n",
        "\n",
        "# float arguments\n",
        "print(\"The float number is:{:f}\".format(123.4567898))\n",
        "\n",
        "# octal, binary and hexadecimal format\n",
        "print(\"bin: {0:b}, oct: {0:o}, hex: {0:x}\".format(12))"
      ],
      "metadata": {
        "colab": {
          "base_uri": "https://localhost:8080/"
        },
        "id": "6y04dvK0E2T3",
        "outputId": "d43e70dc-20c4-4c1e-882d-a0fbeadcc10a"
      },
      "execution_count": null,
      "outputs": [
        {
          "output_type": "stream",
          "name": "stdout",
          "text": [
            "The number is:123\n",
            "The float number is:123.456790\n",
            "bin: 1100, oct: 14, hex: c\n"
          ]
        }
      ]
    },
    {
      "cell_type": "code",
      "source": [
        "# string padding with left alignment\n",
        "print(\"{:5}\".format(\"cat\"))\n",
        "\n",
        "# string padding with right alignment\n",
        "print(\"{:>5}\".format(\"cat\"))\n",
        "\n",
        "# string padding with center alignment\n",
        "print(\"{:^5}\".format(\"cat\"))\n",
        "\n",
        "# string padding with center alignment\n",
        "# and '*' padding character\n",
        "print(\"{:*^5}\".format(\"cat\"))"
      ],
      "metadata": {
        "colab": {
          "base_uri": "https://localhost:8080/"
        },
        "id": "FNLVVj9RGoCb",
        "outputId": "1fc7917f-5ae9-4273-9d34-d6ecbf62a700"
      },
      "execution_count": null,
      "outputs": [
        {
          "output_type": "stream",
          "name": "stdout",
          "text": [
            "cat  \n",
            "  cat\n",
            " cat \n",
            "*cat*\n"
          ]
        }
      ]
    },
    {
      "cell_type": "code",
      "source": [
        "text = 'Python is fun'\n",
        "\n",
        "# find the index of is\n",
        "result = text.index('is')\n",
        "print(result)"
      ],
      "metadata": {
        "colab": {
          "base_uri": "https://localhost:8080/"
        },
        "id": "rB-CBXXVH6me",
        "outputId": "2d00da5a-6fce-4706-e970-80bc9b576b35"
      },
      "execution_count": null,
      "outputs": [
        {
          "output_type": "stream",
          "name": "stdout",
          "text": [
            "7\n"
          ]
        }
      ]
    },
    {
      "cell_type": "code",
      "source": [
        "sentence = 'Python programming is fun.'\n",
        "\n",
        "# Substring is searched in 'gramming is fun.'\n",
        "print(sentence.index('ing', 10))\n",
        "\n",
        "# Substring is searched in 'gramming is '\n",
        "print(sentence.index('g is', 10, -4))"
      ],
      "metadata": {
        "colab": {
          "base_uri": "https://localhost:8080/"
        },
        "id": "vobkDzXAI1gv",
        "outputId": "920390b5-0015-45f5-9fb2-d2c027e3f760"
      },
      "execution_count": null,
      "outputs": [
        {
          "output_type": "stream",
          "name": "stdout",
          "text": [
            "15\n",
            "17\n"
          ]
        }
      ]
    },
    {
      "cell_type": "code",
      "source": [
        "# string contains either alphabet or number\n",
        "name1 = \"Python3\"\n",
        "\n",
        "print(name1.isalnum()) #True\n",
        "\n",
        "# string contains whitespace\n",
        "name2 = \"Python 3\"\n",
        "\n",
        "print(name2.isalnum()) #False"
      ],
      "metadata": {
        "colab": {
          "base_uri": "https://localhost:8080/"
        },
        "id": "HzeVoS5aJ2Yq",
        "outputId": "3825feb7-0620-43ec-c942-d63736d2382d"
      },
      "execution_count": null,
      "outputs": [
        {
          "output_type": "stream",
          "name": "stdout",
          "text": [
            "True\n",
            "False\n"
          ]
        }
      ]
    },
    {
      "cell_type": "code",
      "source": [
        "# contains either numeric or alphabet\n",
        "string1 = \"M234onica\"\n",
        "\n",
        "print(string1.isalnum()) # True\n",
        "\n",
        "# contains whitespace\n",
        "string2 = \"M3onica Gell22er\"\n",
        "\n",
        "print(string2.isalnum()) # False\n",
        "\n",
        "# contains non-alphanumeric character\n",
        "string3 = \"@Monica!\"\n",
        "\n",
        "print(string3.isalnum()) # False"
      ],
      "metadata": {
        "colab": {
          "base_uri": "https://localhost:8080/"
        },
        "id": "PmUQrCbqJ7hv",
        "outputId": "9c32a762-4fa6-46e5-8f46-c1e8253f392b"
      },
      "execution_count": null,
      "outputs": [
        {
          "output_type": "stream",
          "name": "stdout",
          "text": [
            "True\n",
            "False\n",
            "False\n"
          ]
        }
      ]
    },
    {
      "cell_type": "code",
      "source": [
        "name = \"Monica\"\n",
        "print(name.isalpha())\n",
        "\n",
        "# contains whitespace\n",
        "name = \"Monica Geller\"\n",
        "print(name.isalpha())\n",
        "\n",
        "# contains number\n",
        "name = \"Mo3nicaGell22er\"\n",
        "print(name.isalpha())"
      ],
      "metadata": {
        "colab": {
          "base_uri": "https://localhost:8080/"
        },
        "id": "T5JameLFKtpp",
        "outputId": "1a5e79e2-a86a-4a4c-81b2-0d1da5a63e83"
      },
      "execution_count": null,
      "outputs": [
        {
          "output_type": "stream",
          "name": "stdout",
          "text": [
            "True\n",
            "False\n",
            "False\n"
          ]
        }
      ]
    },
    {
      "cell_type": "code",
      "source": [
        "s = \"28212\"\n",
        "print(s.isdecimal())\n",
        "\n",
        "# contains alphabets\n",
        "s = \"32ladk3\"\n",
        "print(s.isdecimal())\n",
        "\n",
        "# contains alphabets and spaces\n",
        "s = \"Mo3 nicaG el l22er\"\n",
        "print(s.isdecimal())"
      ],
      "metadata": {
        "colab": {
          "base_uri": "https://localhost:8080/"
        },
        "id": "DPi_HB5UKz7g",
        "outputId": "f5fdcfec-841f-4371-d80f-7fb8f5c10256"
      },
      "execution_count": null,
      "outputs": [
        {
          "output_type": "stream",
          "name": "stdout",
          "text": [
            "True\n",
            "False\n",
            "False\n"
          ]
        }
      ]
    },
    {
      "cell_type": "code",
      "source": [
        "s = \"28212\"\n",
        "print(s.isdigit())\n",
        "\n",
        "# contains alphabets and spaces\n",
        "s = \"Mo3 nicaG el l22er\"\n",
        "print(s.isdigit())"
      ],
      "metadata": {
        "colab": {
          "base_uri": "https://localhost:8080/"
        },
        "id": "MfvEp5wuLN8n",
        "outputId": "22282cd9-fdcf-4c71-b752-2254e60acece"
      },
      "execution_count": null,
      "outputs": [
        {
          "output_type": "stream",
          "name": "stdout",
          "text": [
            "True\n",
            "False\n"
          ]
        }
      ]
    },
    {
      "cell_type": "code",
      "source": [
        "str = 'Python'\n",
        "print(str.isidentifier())\n",
        "\n",
        "str = 'Py thon'\n",
        "print(str.isidentifier())\n",
        "\n",
        "str = '22Python'\n",
        "print(str.isidentifier())\n",
        "\n",
        "str = ''\n",
        "print(str.isidentifier())"
      ],
      "metadata": {
        "colab": {
          "base_uri": "https://localhost:8080/"
        },
        "id": "UBv6xOa2WC3v",
        "outputId": "d907a86b-4fde-46de-da97-5ea6584fa41c"
      },
      "execution_count": null,
      "outputs": [
        {
          "output_type": "stream",
          "name": "stdout",
          "text": [
            "True\n",
            "False\n",
            "False\n",
            "False\n"
          ]
        }
      ]
    },
    {
      "cell_type": "code",
      "source": [
        "s = 'this is good'\n",
        "print(s.islower())\n",
        "\n",
        "s = 'th!s is a1so g00d'\n",
        "print(s.islower())\n",
        "\n",
        "s = 'this is Not good'\n",
        "print(s.islower())"
      ],
      "metadata": {
        "colab": {
          "base_uri": "https://localhost:8080/"
        },
        "id": "WgS4PkHkWJb3",
        "outputId": "1934b5e4-7855-4b3b-9dcc-b8ea811d5fc0"
      },
      "execution_count": null,
      "outputs": [
        {
          "output_type": "stream",
          "name": "stdout",
          "text": [
            "True\n",
            "True\n",
            "False\n"
          ]
        }
      ]
    },
    {
      "cell_type": "code",
      "source": [
        "# example string\n",
        "string = \"THIS IS GOOD!\"\n",
        "print(string.isupper());\n",
        "\n",
        "# numbers in place of alphabets\n",
        "string = \"THIS IS ALSO G00D!\"\n",
        "print(string.isupper());\n",
        "\n",
        "# lowercase string\n",
        "string = \"THIS IS not GOOD!\"\n",
        "print(string.isupper());"
      ],
      "metadata": {
        "colab": {
          "base_uri": "https://localhost:8080/"
        },
        "id": "Z4TwuyysXRHs",
        "outputId": "5c7f79d3-bce5-4208-dcab-e59efbd7b6da"
      },
      "execution_count": null,
      "outputs": [
        {
          "output_type": "stream",
          "name": "stdout",
          "text": [
            "True\n",
            "True\n",
            "False\n"
          ]
        }
      ]
    },
    {
      "cell_type": "code",
      "source": [
        "string1 = \"012345\"\n",
        "\n",
        "# returns True as symbol_number has all numeric characters\n",
        "print(string1.isnumeric())\n",
        "\n",
        "steing2 = \"Python3\"\n",
        "\n",
        "# returns False as every character of text is not numeric\n",
        "print(string2.isnumeric())"
      ],
      "metadata": {
        "colab": {
          "base_uri": "https://localhost:8080/"
        },
        "id": "EmXv_E7pWQE_",
        "outputId": "0e423a33-2365-4d63-de95-599fcd55df31"
      },
      "execution_count": null,
      "outputs": [
        {
          "output_type": "stream",
          "name": "stdout",
          "text": [
            "True\n",
            "False\n"
          ]
        }
      ]
    },
    {
      "cell_type": "code",
      "source": [
        "text1 = 'python programming'\n",
        "\n",
        "# checks if text1 is printable\n",
        "result1 = text1.isprintable()\n",
        "print(result1)\n",
        "\n",
        "text2 = 'python programming\\n'\n",
        "\n",
        "# checks if text2 is printable\n",
        "result2 = text2.isprintable()\n",
        "print(result2)"
      ],
      "metadata": {
        "colab": {
          "base_uri": "https://localhost:8080/"
        },
        "id": "mGRiMXfBWkf5",
        "outputId": "ef04e494-4ebd-4b85-f4d8-16b9fba58afc"
      },
      "execution_count": null,
      "outputs": [
        {
          "output_type": "stream",
          "name": "stdout",
          "text": [
            "True\n",
            "False\n"
          ]
        }
      ]
    },
    {
      "cell_type": "code",
      "source": [
        "s = '   \\t'\n",
        "print(s.isspace())\n",
        "\n",
        "s = ' a '\n",
        "print(s.isspace())\n",
        "\n",
        "s = ''\n",
        "print(s.isspace())"
      ],
      "metadata": {
        "colab": {
          "base_uri": "https://localhost:8080/"
        },
        "id": "7MBOGBhBWwkM",
        "outputId": "d71d0432-7f5b-41b7-b2b0-242d6917e65b"
      },
      "execution_count": null,
      "outputs": [
        {
          "output_type": "stream",
          "name": "stdout",
          "text": [
            "True\n",
            "False\n",
            "False\n"
          ]
        }
      ]
    },
    {
      "cell_type": "code",
      "source": [
        "s = 'Python Is Good.'\n",
        "print(s.istitle())\n",
        "\n",
        "s = 'Python is good'\n",
        "print(s.istitle())\n",
        "\n",
        "s = 'This Is @ Symbol.'\n",
        "print(s.istitle())\n",
        "\n",
        "s = '99 Is A Number'\n",
        "print(s.istitle())\n",
        "\n",
        "s = 'PYTHON'\n",
        "print(s.istitle())"
      ],
      "metadata": {
        "colab": {
          "base_uri": "https://localhost:8080/"
        },
        "id": "nLc_BD29XKfH",
        "outputId": "bb6ec516-e543-4594-907f-26092e97a57c"
      },
      "execution_count": null,
      "outputs": [
        {
          "output_type": "stream",
          "name": "stdout",
          "text": [
            "True\n",
            "False\n",
            "True\n",
            "True\n",
            "False\n"
          ]
        }
      ]
    },
    {
      "cell_type": "code",
      "source": [
        "# .join() with lists\n",
        "numList = ['1', '2', '3', '4']\n",
        "separator = ', '\n",
        "print(separator.join(numList))\n",
        "\n",
        "# .join() with tuples\n",
        "numTuple = ('1', '2', '3', '4')\n",
        "print(separator.join(numTuple))\n",
        "\n",
        "s1 = 'abc'\n",
        "s2 = '123'\n",
        "\n",
        "# each element of s2 is separated by s1\n",
        "# '1'+ 'abc'+ '2'+ 'abc'+ '3'\n",
        "print('s1.join(s2):', s1.join(s2))\n",
        "\n",
        "# each element of s1 is separated by s2\n",
        "# 'a'+ '123'+ 'b'+ '123'+ 'b'\n",
        "print('s2.join(s1):', s2.join(s1))"
      ],
      "metadata": {
        "colab": {
          "base_uri": "https://localhost:8080/"
        },
        "id": "p6_nSh-uXT7d",
        "outputId": "4ab07523-224d-44a9-f5cc-a0e4ef0530f3"
      },
      "execution_count": null,
      "outputs": [
        {
          "output_type": "stream",
          "name": "stdout",
          "text": [
            "1, 2, 3, 4\n",
            "1, 2, 3, 4\n",
            "s1.join(s2): 1abc2abc3\n",
            "s2.join(s1): a123b123c\n"
          ]
        }
      ]
    },
    {
      "cell_type": "code",
      "source": [
        "# example string\n",
        "string = 'cat'\n",
        "width = 5\n",
        "fillchar = '*'\n",
        "\n",
        "# print left justified string\n",
        "print(string.ljust(width, fillchar))"
      ],
      "metadata": {
        "colab": {
          "base_uri": "https://localhost:8080/"
        },
        "id": "oG8GTLjohGCu",
        "outputId": "c7b6b311-6573-465a-f08a-1eceae1e5368"
      },
      "execution_count": null,
      "outputs": [
        {
          "output_type": "stream",
          "name": "stdout",
          "text": [
            "cat**\n"
          ]
        }
      ]
    },
    {
      "cell_type": "code",
      "source": [
        "text = 'Python'\n",
        "\n",
        "# right aligns 'Python' up to width 10 using '*'\n",
        "result = text.rjust(10, '*')\n",
        "print(result)\n",
        "\n",
        "# Output: ***Python"
      ],
      "metadata": {
        "colab": {
          "base_uri": "https://localhost:8080/"
        },
        "id": "GynoN-BuhKX4",
        "outputId": "5a0126fb-e880-4de3-a4b8-c3a25716321a"
      },
      "execution_count": null,
      "outputs": [
        {
          "output_type": "stream",
          "name": "stdout",
          "text": [
            "****Python\n"
          ]
        }
      ]
    },
    {
      "cell_type": "code",
      "source": [
        "message = 'PYTHON IS FUN'\n",
        "\n",
        "# convert message to lowercase\n",
        "print(message.lower())\n",
        "\n",
        "# Output: python is fun"
      ],
      "metadata": {
        "colab": {
          "base_uri": "https://localhost:8080/"
        },
        "id": "ou9Y5-OnhS35",
        "outputId": "2e224311-9991-4cd6-e53f-c6c87b6d227c"
      },
      "execution_count": null,
      "outputs": [
        {
          "output_type": "stream",
          "name": "stdout",
          "text": [
            "python is fun\n"
          ]
        }
      ]
    },
    {
      "cell_type": "code",
      "source": [
        "# example string\n",
        "string = \"this should be uppercase!\"\n",
        "print(string.upper())\n",
        "\n",
        "# string with numbers\n",
        "# all alphabets should be lowercase\n",
        "string = \"Th!s Sh0uLd B3 uPp3rCas3!\"\n",
        "print(string.upper())"
      ],
      "metadata": {
        "colab": {
          "base_uri": "https://localhost:8080/"
        },
        "id": "wDBlIU_VhYFl",
        "outputId": "c26091a3-ae33-4ea5-bbeb-7088548f04e0"
      },
      "execution_count": null,
      "outputs": [
        {
          "output_type": "stream",
          "name": "stdout",
          "text": [
            "THIS SHOULD BE UPPERCASE!\n",
            "TH!S SH0ULD B3 UPP3RCAS3!\n"
          ]
        }
      ]
    },
    {
      "cell_type": "code",
      "source": [
        "sentence1 = \"THIS SHOULD ALL BE LOWERCASE.\"\n",
        "\n",
        "# converts uppercase to lowercase\n",
        "print(sentence1.swapcase())\n",
        "\n",
        "sentence2 = \"this should all be uppercase.\"\n",
        "\n",
        "# converts lowercase to uppercase\n",
        "print(sentence2.swapcase())\n",
        "\n",
        "sentence3 = \"ThIs ShOuLd Be MiXeD cAsEd.\"\n",
        "\n",
        "# converts lowercase to uppercase and vice versa\n",
        "print(sentence3.swapcase())"
      ],
      "metadata": {
        "colab": {
          "base_uri": "https://localhost:8080/"
        },
        "id": "6jj3epoGheZh",
        "outputId": "17eb8a0d-b61e-4a97-aa4e-2ac44c9af78e"
      },
      "execution_count": null,
      "outputs": [
        {
          "output_type": "stream",
          "name": "stdout",
          "text": [
            "this should all be lowercase.\n",
            "THIS SHOULD ALL BE UPPERCASE.\n",
            "tHiS sHoUlD bE mIxEd CaSeD.\n"
          ]
        }
      ]
    },
    {
      "cell_type": "code",
      "source": [
        "string = \"Python is fun\"\n",
        "\n",
        "# 'is' separator is found\n",
        "print(string.partition('is '))\n",
        "\n",
        "# 'not' separator is not found\n",
        "print(string.partition('not '))\n",
        "\n",
        "string = \"Python is fun, isn't it\"\n",
        "\n",
        "# splits at first occurence of 'is'\n",
        "print(string.partition('is'))"
      ],
      "metadata": {
        "colab": {
          "base_uri": "https://localhost:8080/"
        },
        "id": "va5oZCa5kxkC",
        "outputId": "2324bf6f-a0b5-4963-e53c-0ee12e14d7ab"
      },
      "execution_count": null,
      "outputs": [
        {
          "output_type": "stream",
          "name": "stdout",
          "text": [
            "('Python ', 'is ', 'fun')\n",
            "('Python is fun', '', '')\n",
            "('Python ', 'is', \" fun, isn't it\")\n"
          ]
        }
      ]
    },
    {
      "cell_type": "code",
      "source": [
        "# example dictionary\n",
        "dict = {\"a\": \"123\", \"b\": \"456\", \"c\": \"789\"}\n",
        "string = \"abc\"\n",
        "print(string.maketrans(dict))\n",
        "\n",
        "# example dictionary\n",
        "dict = {97: \"123\", 98: \"456\", 99: \"789\"}\n",
        "string = \"abc\"\n",
        "print(string.maketrans(dict))"
      ],
      "metadata": {
        "colab": {
          "base_uri": "https://localhost:8080/"
        },
        "id": "z72EqOX_k6Z7",
        "outputId": "e5bb317e-1bdf-4c8b-df20-7168fcdec6e2"
      },
      "execution_count": null,
      "outputs": [
        {
          "output_type": "stream",
          "name": "stdout",
          "text": [
            "{97: '123', 98: '456', 99: '789'}\n",
            "{97: '123', 98: '456', 99: '789'}\n"
          ]
        }
      ]
    },
    {
      "cell_type": "code",
      "source": [
        "string = \"Python is fun\"\n",
        "\n",
        "# 'is' separator is found\n",
        "print(string.rpartition('is '))\n",
        "\n",
        "# 'not' separator is not found\n",
        "print(string.rpartition('not '))\n",
        "\n",
        "string = \"Python is fun, isn't it\"\n",
        "\n",
        "# splits at last occurence of 'is'\n",
        "print(string.rpartition('is'))"
      ],
      "metadata": {
        "colab": {
          "base_uri": "https://localhost:8080/"
        },
        "id": "fR1xmtpsoYhW",
        "outputId": "ecf2c261-a41d-49b8-f320-78de3fc309ad"
      },
      "execution_count": null,
      "outputs": [
        {
          "output_type": "stream",
          "name": "stdout",
          "text": [
            "('Python ', 'is ', 'fun')\n",
            "('', '', 'Python is fun')\n",
            "('Python is fun, ', 'is', \"n't it\")\n"
          ]
        }
      ]
    },
    {
      "cell_type": "code",
      "source": [
        "# first string\n",
        "firstString = \"abc\"\n",
        "secondString = \"ghi\"\n",
        "thirdString = \"ab\"\n",
        "\n",
        "string = \"abcdef\"\n",
        "print(\"Original string:\", string)\n",
        "\n",
        "translation = string.maketrans(firstString, secondString, thirdString)\n",
        "\n",
        "# translate string\n",
        "print(\"Translated string:\", string.translate(translation))"
      ],
      "metadata": {
        "colab": {
          "base_uri": "https://localhost:8080/"
        },
        "id": "ktW9ya19odEt",
        "outputId": "95bd53ce-62ec-4f39-8dd0-28715dc23b19"
      },
      "execution_count": null,
      "outputs": [
        {
          "output_type": "stream",
          "name": "stdout",
          "text": [
            "Original string: abcdef\n",
            "Translated string: idef\n"
          ]
        }
      ]
    },
    {
      "cell_type": "code",
      "source": [
        "text = 'bat ball'\n",
        "\n",
        "# replace 'ba' with 'ro'\n",
        "replaced_text = text.replace('ba', 'ro')\n",
        "print(replaced_text)"
      ],
      "metadata": {
        "colab": {
          "base_uri": "https://localhost:8080/"
        },
        "id": "SiWDxRMspTx7",
        "outputId": "25509640-e943-4126-d7f6-ccc68340b5a0"
      },
      "execution_count": null,
      "outputs": [
        {
          "output_type": "stream",
          "name": "stdout",
          "text": [
            "rot roll\n"
          ]
        }
      ]
    },
    {
      "cell_type": "code",
      "source": [
        "quote = 'Let it be, let it be, let it be'\n",
        "\n",
        "result = quote.rfind('let it')\n",
        "print(\"Substring 'let it':\", result)\n",
        "\n",
        "result = quote.rfind('small')\n",
        "print(\"Substring 'small ':\", result)\n",
        "\n",
        "result = quote.rfind('be,')\n",
        "if  (result != -1):\n",
        "  print(\"Highest index where 'be,' occurs:\", result)\n",
        "else:\n",
        "  print(\"Doesn't contain substring\")"
      ],
      "metadata": {
        "id": "8qhNnOebpobo",
        "colab": {
          "base_uri": "https://localhost:8080/"
        },
        "outputId": "c47d89c8-0aaa-4eb0-b417-b94b9ebba0af"
      },
      "execution_count": null,
      "outputs": [
        {
          "output_type": "stream",
          "name": "stdout",
          "text": [
            "Substring 'let it': 22\n",
            "Substring 'small ': -1\n",
            "Highest index where 'be,' occurs: 18\n"
          ]
        }
      ]
    },
    {
      "cell_type": "code",
      "source": [
        "cars = 'BMW-Telsa-Range Rover'\n",
        "\n",
        "# split at '-'\n",
        "print(cars.split('-'))"
      ],
      "metadata": {
        "colab": {
          "base_uri": "https://localhost:8080/"
        },
        "id": "nDZwWetXSeh9",
        "outputId": "4d47db9a-d684-47d3-e7c7-8faa213ded5d"
      },
      "execution_count": null,
      "outputs": [
        {
          "output_type": "stream",
          "name": "stdout",
          "text": [
            "['BMW', 'Telsa', 'Range Rover']\n"
          ]
        }
      ]
    },
    {
      "cell_type": "code",
      "source": [
        "text= 'Love thy neighbor'\n",
        "\n",
        "# splits at space\n",
        "print(text.split())\n",
        "\n",
        "grocery = 'Milk, Chicken, Bread'\n",
        "\n",
        "# splits at ','\n",
        "print(grocery.split(', '))\n",
        "\n",
        "# Splits at ':'\n",
        "print(grocery.split(':'))"
      ],
      "metadata": {
        "colab": {
          "base_uri": "https://localhost:8080/"
        },
        "id": "koytG4TPZbhn",
        "outputId": "98ba2da8-52ad-4166-f329-a16369416ea1"
      },
      "execution_count": null,
      "outputs": [
        {
          "output_type": "stream",
          "name": "stdout",
          "text": [
            "['Love', 'thy', 'neighbor']\n",
            "['Milk', 'Chicken', 'Bread']\n",
            "['Milk, Chicken, Bread']\n"
          ]
        }
      ]
    },
    {
      "cell_type": "code",
      "source": [
        "grocery = 'Milk, Chicken, Bread, Butter'\n",
        "\n",
        "# maxsplit: 2\n",
        "print(grocery.split(', ', 2))\n",
        "\n",
        "# maxsplit: 1\n",
        "print(grocery.split(', ', 1))\n",
        "\n",
        "# maxsplit: 5\n",
        "print(grocery.split(', ', 5))\n",
        "\n",
        "# maxsplit: 0\n",
        "print(grocery.split(', ', 0))"
      ],
      "metadata": {
        "colab": {
          "base_uri": "https://localhost:8080/"
        },
        "id": "W9anyUDcZ8wR",
        "outputId": "8095d910-f9e9-4030-cd4d-d9063b2976f9"
      },
      "execution_count": null,
      "outputs": [
        {
          "output_type": "stream",
          "name": "stdout",
          "text": [
            "['Milk', 'Chicken', 'Bread, Butter']\n",
            "['Milk', 'Chicken, Bread, Butter']\n",
            "['Milk', 'Chicken', 'Bread', 'Butter']\n",
            "['Milk, Chicken, Bread, Butter']\n"
          ]
        }
      ]
    },
    {
      "cell_type": "code",
      "source": [
        "# '\\n' is a line break\n",
        "grocery = 'Milk\\nChicken\\nBread\\rButter'\n",
        "\n",
        "# returns a list after splitting the grocery string\n",
        "print(grocery.splitlines())"
      ],
      "metadata": {
        "colab": {
          "base_uri": "https://localhost:8080/"
        },
        "id": "RpR_YGtNbW-j",
        "outputId": "dc463c1d-61fc-4184-cd9f-8bdc2543c955"
      },
      "execution_count": null,
      "outputs": [
        {
          "output_type": "stream",
          "name": "stdout",
          "text": [
            "['Milk', 'Chicken', 'Bread', 'Butter']\n"
          ]
        }
      ]
    },
    {
      "cell_type": "code",
      "source": [
        "# multi line string\n",
        "grocery = '''Milk\n",
        "Chicken\n",
        "Bread\n",
        "Butter'''\n",
        "\n",
        "# returns a list after splitting the grocery string\n",
        "print(grocery.splitlines())"
      ],
      "metadata": {
        "colab": {
          "base_uri": "https://localhost:8080/"
        },
        "id": "IPIJivsWbfvY",
        "outputId": "d5eadbf5-56ef-4db9-9f1d-e636c30a05d3"
      },
      "execution_count": null,
      "outputs": [
        {
          "output_type": "stream",
          "name": "stdout",
          "text": [
            "['Milk', 'Chicken', 'Bread', 'Butter']\n"
          ]
        }
      ]
    },
    {
      "cell_type": "code",
      "source": [
        "message = 'Python is fun'\n",
        "\n",
        "# check if the message starts with Python\n",
        "print(message.startswith('Python'))\n",
        "\n",
        "# Output: True"
      ],
      "metadata": {
        "colab": {
          "base_uri": "https://localhost:8080/"
        },
        "id": "pAYNuuwfjBVi",
        "outputId": "e36db389-295b-43b5-cfbe-36fc772f85e2"
      },
      "execution_count": null,
      "outputs": [
        {
          "output_type": "stream",
          "name": "stdout",
          "text": [
            "True\n"
          ]
        }
      ]
    },
    {
      "cell_type": "code",
      "source": [
        "text = \"Python programming is easy.\"\n",
        "\n",
        "# start parameter: 7\n",
        "# 'programming is easy.' string is searched\n",
        "result = text.startswith('programming is', 7)\n",
        "print(result)\n",
        "\n",
        "# start: 7, end: 18\n",
        "# 'programming' string is searched\n",
        "result = text.startswith('programming is', 7, 18)\n",
        "print(result)\n",
        "\n",
        "result = text.startswith('program', 7, 18)\n",
        "print(result)"
      ],
      "metadata": {
        "colab": {
          "base_uri": "https://localhost:8080/"
        },
        "id": "-wdDkNARjMzu",
        "outputId": "80f4f1e8-ee65-48fd-8dd0-1f8ed23adeb7"
      },
      "execution_count": null,
      "outputs": [
        {
          "output_type": "stream",
          "name": "stdout",
          "text": [
            "True\n",
            "False\n",
            "True\n"
          ]
        }
      ]
    },
    {
      "cell_type": "code",
      "source": [
        "text = \"programming is easy\"\n",
        "result = text.startswith(('python', 'programming'))\n",
        "\n",
        "# prints True\n",
        "print(result)\n",
        "\n",
        "result = text.startswith(('is', 'easy', 'java'))\n",
        "\n",
        "# prints False\n",
        "print(result)\n",
        "\n",
        "# With start and end parameter\n",
        "# 'is easy' string is checked\n",
        "result = text.startswith(('programming', 'easy'), 12, 19)\n",
        "\n",
        "# prints False\n",
        "print(result)"
      ],
      "metadata": {
        "colab": {
          "base_uri": "https://localhost:8080/"
        },
        "id": "c0FKA6MSli_4",
        "outputId": "b830c3a1-b942-489e-8fe3-4a3a29ce660d"
      },
      "execution_count": null,
      "outputs": [
        {
          "output_type": "stream",
          "name": "stdout",
          "text": [
            "True\n",
            "False\n",
            "False\n"
          ]
        }
      ]
    },
    {
      "cell_type": "code",
      "source": [
        "text = \"He's an engineer, isn't he?\"\n",
        "print(text.title())"
      ],
      "metadata": {
        "colab": {
          "base_uri": "https://localhost:8080/"
        },
        "id": "7Ciqhp4tpZGb",
        "outputId": "e72a2289-44fd-44df-d23b-b54ca8280ede"
      },
      "execution_count": null,
      "outputs": [
        {
          "output_type": "stream",
          "name": "stdout",
          "text": [
            "He'S An Engineer, Isn'T He?\n"
          ]
        }
      ]
    },
    {
      "cell_type": "code",
      "source": [
        "text = \"program is fun\"\n",
        "print(text.zfill(15))\n",
        "print(text.zfill(20))\n",
        "print(text.zfill(10))"
      ],
      "metadata": {
        "colab": {
          "base_uri": "https://localhost:8080/"
        },
        "id": "iBaVZFViqV--",
        "outputId": "ed7d90f1-d4a8-4302-9ce1-1468a37af89c"
      },
      "execution_count": null,
      "outputs": [
        {
          "output_type": "stream",
          "name": "stdout",
          "text": [
            "0program is fun\n",
            "000000program is fun\n",
            "program is fun\n"
          ]
        }
      ]
    },
    {
      "cell_type": "code",
      "source": [
        "point = {'x':4,'y':-5}\n",
        "print('{x} {y}'.format_map(point))\n",
        "\n",
        "point = {'x':4,'y':-5, 'z': 0}\n",
        "print('{x} {y} {z}'.format_map(point))"
      ],
      "metadata": {
        "id": "IpciNvsXrlaT",
        "outputId": "af614d8f-15b1-4fe6-9ac5-032dfb68d593",
        "colab": {
          "base_uri": "https://localhost:8080/"
        }
      },
      "execution_count": null,
      "outputs": [
        {
          "output_type": "stream",
          "name": "stdout",
          "text": [
            "4 -5\n",
            "4 -5 0\n"
          ]
        }
      ]
    }
  ]
}